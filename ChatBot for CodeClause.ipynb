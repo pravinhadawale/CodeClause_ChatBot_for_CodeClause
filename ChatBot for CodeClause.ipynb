{
 "cells": [
  {
   "cell_type": "markdown",
   "id": "7bf3b1c3",
   "metadata": {},
   "source": [
    "# CodeClause Data Science Intern"
   ]
  },
  {
   "cell_type": "markdown",
   "id": "000bc28a",
   "metadata": {},
   "source": [
    "# Name : Pravin Suresh Hadawale"
   ]
  },
  {
   "cell_type": "markdown",
   "id": "4f56ef3b",
   "metadata": {},
   "source": [
    "# Goldern Task : ChatBot for CodeClause"
   ]
  },
  {
   "cell_type": "code",
   "execution_count": null,
   "id": "5d40c0f5",
   "metadata": {},
   "outputs": [],
   "source": []
  },
  {
   "cell_type": "code",
   "execution_count": 1,
   "id": "07d12ed9",
   "metadata": {},
   "outputs": [],
   "source": [
    "import nltk\n",
    "from nltk.chat.util import Chat, reflections"
   ]
  },
  {
   "cell_type": "code",
   "execution_count": 2,
   "id": "68a5c1e4",
   "metadata": {},
   "outputs": [],
   "source": [
    "reflections = {\n",
    "  \"i am\"       : \"you are\",\n",
    "  \"i was\"      : \"you were\",\n",
    "  \"i\"          : \"you\",\n",
    "  \"i'm\"        : \"you are\",\n",
    "  \"i'd\"        : \"you would\",\n",
    "  \"i've\"       : \"you have\",\n",
    "  \"i'll\"       : \"you will\",\n",
    "  \"my\"         : \"your\",\n",
    "  \"you are\"    : \"I am\",\n",
    "  \"you were\"   : \"I was\",\n",
    "  \"you've\"     : \"I have\",\n",
    "  \"you'll\"     : \"I will\",\n",
    "  \"your\"       : \"my\",\n",
    "  \"yours\"      : \"mine\",\n",
    "  \"you\"        : \"me\",\n",
    "  \"me\"         : \"you\"\n",
    "}"
   ]
  },
  {
   "cell_type": "code",
   "execution_count": 3,
   "id": "4566a040",
   "metadata": {},
   "outputs": [],
   "source": [
    "pairs = [\n",
    "    [\n",
    "        r\"yes\",\n",
    "        [\"which type of internship you want?\\n1.Data Science\\n2.Artificial Intelligence\\n3.Python Development\\n4.Web Development\\n5.Android Development\\n6.Java Developer\\n7.Graphic Designer\\n8.Content Writer\",]\n",
    "    ],\n",
    "        [\n",
    "        r\"repeat\",\n",
    "        [\"which type of internship you want?\\n1.Data Science\\n2.Artificial Intelligence\\n3.Python Development\\n4.Web Development\\n5.Android Development\\n6.Java Developer\\n7.Graphic Designer\\n8.Content Writer\",]\n",
    "    ],\n",
    "    [\n",
    "        r\"1\",\n",
    "        [\"Data Science Internship Details\\nJob Type- Intern \\nLocation- Remote Work \\nDuration- 4 Weeks\\nFill form from given link : https://internship.codeclause.com/Apply?jobid=12143\",]\n",
    "    ], \n",
    "    [\n",
    "        r\"2\",\n",
    "        [\"Artificial Intelligence Internship Details\\nJob Type- Intern \\nLocation- Remote Work \\nDuration- 4 Weeks\\nFill form from given link : https://internship.codeclause.com/apply?jobid=12244\",]\n",
    "    ],\n",
    "    [\n",
    "        r\"3\",\n",
    "        [\"Python Development Internship Details\\nJob Type- Intern \\nLocation- Remote Work \\nDuration- 4 Weeks\\nFill form from given link : https://internship.codeclause.com/apply?jobid=9876\",]\n",
    "    ],\n",
    "    [\n",
    "        r\"4\",\n",
    "        [\"Web Development Internship Details\\nJob Type- Intern \\nLocation- Remote Work \\nDuration- 4 Weeks\\nFill form from given link : https://internship.codeclause.com/apply?jobid=12345\",]\n",
    "    ],\n",
    "    [\n",
    "        r\"5\",\n",
    "        [\"Android Development Internship Details\\nJob Type- Intern \\nLocation- Remote Work \\nDuration- 4 Weeks\\nFill form from given link : https://internship.codeclause.com/apply?jobid=12446\",]\n",
    "    ],\n",
    "    [\n",
    "        r\"6\",\n",
    "        [\"Java Developer Internship Details\\nJob Type- Intern \\nLocation- Remote Work \\nDuration- 4 Weeks\\nFill form from given link : https://internship.codeclause.com/apply?jobid=12547\",]\n",
    "    ],\n",
    "    [\n",
    "        r\"7\",\n",
    "        [\"Graphic Designer Internship Details\\nJob Type- Intern \\nLocation- Remote Work \\nDuration- 4 Weeks\\nFill form from given link : https://internship.codeclause.com/apply?jobid=12648\",]\n",
    "    ],\n",
    "\n",
    "    [\n",
    "        r\"8\",\n",
    "        [\"Content Writer Internship Details\\nJob Type- Intern \\nLocation- Remote Work \\nDuration- 4 Weeks\\nFill form from given link : https://internship.codeclause.com/apply?jobid=12649\",]\n",
    "    ],\n",
    "\n",
    "    [\n",
    "        r\"quit\",\n",
    "        [\"BBye take care. See you soon. To know more about go to https://codeclause.com/ \\nOr contact on : info@codeclause.com Or official@codeclause.com\",]\n",
    "    ],\n",
    "]"
   ]
  },
  {
   "cell_type": "code",
   "execution_count": 4,
   "id": "1fdff4c0",
   "metadata": {},
   "outputs": [
    {
     "name": "stdout",
     "output_type": "stream",
     "text": [
      "Requirement already satisfied: colorama in c:\\users\\user15\\anaconda3\\lib\\site-packages (0.4.4)\n"
     ]
    }
   ],
   "source": [
    "#For different font color\n",
    "!pip install colorama\n",
    "\n",
    "import colorama\n",
    "from colorama import Fore"
   ]
  },
  {
   "cell_type": "code",
   "execution_count": null,
   "id": "de3921ec",
   "metadata": {},
   "outputs": [
    {
     "name": "stdout",
     "output_type": "stream",
     "text": [
      "Get the future you want with CodeClause At CodeClause, we endeavor to provide a formidable platform for professionals who will be our change agents - catalysts who will be torchbearers of CodeClause’s fortitude to excel and redefine limits of technology to make our clients successful.\n",
      "\n",
      " Hello, I am your CodeCaluse advisor for short. I will answer your queries about our services.\n",
      "\u001b[31m\n",
      "(Type quit If you want to quit.Or if you want to reapeat a list type repeat)\n",
      "\u001b[34m\n",
      "\n",
      "Are you intrested in Internships?\n",
      "(Type yes to know more.)\n",
      ">yes\n",
      "which type of internship you want?\n",
      "1.Data Science\n",
      "2.Artificial Intelligence\n",
      "3.Python Development\n",
      "4.Web Development\n",
      "5.Android Development\n",
      "6.Java Developer\n",
      "7.Graphic Designer\n",
      "8.Content Writer\n"
     ]
    }
   ],
   "source": [
    "\n",
    "#Start the chat\n",
    "print(\"Get the future you want with CodeClause At CodeClause, we endeavor to provide a formidable platform for professionals who will be our change agents - catalysts who will be torchbearers of CodeClause’s fortitude to excel and redefine limits of technology to make our clients successful.\")\n",
    "print(\"\\n Hello, I am your CodeCaluse advisor for short. I will answer your queries about our services.\")\n",
    "\n",
    "print(Fore.RED + \"\\n(Type quit If you want to quit.Or if you want to reapeat a list type repeat)\")\n",
    "\n",
    "print(Fore.BLUE)\n",
    "def chat():\n",
    "   \n",
    "    print(\"\\nAre you intrested in Internships?\\n(Type yes to know more.)\")\n",
    "    chat = Chat(pairs, reflections)\n",
    "    chat.converse()\n",
    "\n",
    "#initiate the conversation\n",
    "if __name__ == \"__main__\":\n",
    "    chat()"
   ]
  }
 ],
 "metadata": {
  "kernelspec": {
   "display_name": "Python 3 (ipykernel)",
   "language": "python",
   "name": "python3"
  },
  "language_info": {
   "codemirror_mode": {
    "name": "ipython",
    "version": 3
   },
   "file_extension": ".py",
   "mimetype": "text/x-python",
   "name": "python",
   "nbconvert_exporter": "python",
   "pygments_lexer": "ipython3",
   "version": "3.9.12"
  }
 },
 "nbformat": 4,
 "nbformat_minor": 5
}
